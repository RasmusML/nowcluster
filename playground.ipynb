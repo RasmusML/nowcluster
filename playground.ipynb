{
 "metadata": {
  "language_info": {
   "codemirror_mode": {
    "name": "ipython",
    "version": 3
   },
   "file_extension": ".py",
   "mimetype": "text/x-python",
   "name": "python",
   "nbconvert_exporter": "python",
   "pygments_lexer": "ipython3",
   "version": "3.8.3"
  },
  "orig_nbformat": 2,
  "kernelspec": {
   "name": "python383jvsc74a57bd0a184f1367fb968ba5d5a135831971466e49b5148eab24c401680188e517968df",
   "display_name": "Python 3.8.3 64-bit (conda)"
  }
 },
 "nbformat": 4,
 "nbformat_minor": 2,
 "cells": [
  {
   "source": [
    "# PyNowCluster Playground\n"
   ],
   "cell_type": "markdown",
   "metadata": {}
  },
  {
   "cell_type": "code",
   "execution_count": 1,
   "metadata": {},
   "outputs": [],
   "source": [
    "import pynowcluster.clusters\n",
    "import numpy as np\n",
    "import matplotlib.pyplot as plt\n",
    "\n",
    "from ipywidgets import interactive\n",
    "import ipywidgets as widgets"
   ]
  },
  {
   "cell_type": "code",
   "execution_count": 5,
   "metadata": {},
   "outputs": [
    {
     "output_type": "display_data",
     "data": {
      "text/plain": "interactive(children=(IntSlider(value=1, description='layer', max=3, min=1), Output()), _dom_classes=('widget-…",
      "application/vnd.jupyter.widget-view+json": {
       "version_major": 2,
       "version_minor": 0,
       "model_id": "5e0383690db84c1aa601564ac827f28a"
      }
     },
     "metadata": {}
    }
   ],
   "source": [
    "np.random.seed(0)\n",
    "n = 50\n",
    "x = np.random.normal(0, 10, n)\n",
    "y = np.random.normal(0, 5, n)\n",
    "  \n",
    "X = np.stack((x,y), axis=1)\n",
    "X = X.astype(np.float32)\n",
    "\n",
    "fractalKMeans = pynowcluster.clusters.FractalKMeans().process(X, min_cluster_size=10)\n",
    "\n",
    "layers = fractalKMeans.get_num_layers()\n",
    "\n",
    "def f(layer):\n",
    "    layer_index = layer - 1\n",
    "    layer_mask = fractalKMeans._clusters[layer_index,:]\n",
    "    clusters = np.max(layer_mask) + 1\n",
    "\n",
    "    centroids = np.empty((clusters, X.shape[1]))\n",
    "\n",
    "    for i in range(clusters):\n",
    "        samples = X[layer_mask == i] \n",
    "        plt.scatter(samples[:,0], samples[:,1])\n",
    "\n",
    "        centroids[i,:] = np.mean(samples, axis=0)\n",
    "    \n",
    "    plt.scatter(centroids[:,0], centroids[:,1], marker=(5,1), color=\"black\")\n",
    "\n",
    "\n",
    "    plt.title(f\"Fractal K-means clustering (n={n})\")\n",
    "    plt.show()\n",
    "\n",
    "w = widgets.IntSlider(value=1, min=1, max=layers)    \n",
    "interactive_plot = interactive(f, layer=w)\n",
    "interactive_plot"
   ]
  },
  {
   "cell_type": "code",
   "execution_count": 2,
   "metadata": {},
   "outputs": [
    {
     "output_type": "stream",
     "name": "stdout",
     "text": [
      "type: 2\n"
     ]
    }
   ],
   "source": [
    "np.random.seed(0)\n",
    "\n",
    "data_size = 100\n",
    "num_iters = 50\n",
    "num_clusters = 4\n",
    "\n",
    "# sample from Gaussians \n",
    "data1 = np.random.normal((5,5), (4, 4), (data_size,2))\n",
    "data2 = np.random.normal((4,60), (3,3), (data_size, 2))\n",
    "data3 = np.random.normal((65, 82), (5, 5), (data_size,2))\n",
    "data4 = np.random.normal((60, 4), (5, 5), (data_size,2))\n",
    "\n",
    "# Combine the data to create the final dataset\n",
    "X = np.concatenate((data1,data2, data3, data4), axis = 0)\n",
    "X = X.astype(np.float32)\n",
    "\n",
    "np.random.shuffle(X)\n",
    "\n",
    "kMeans = pynowcluster.clusters.KMeans().process(X, num_clusters)\n",
    "\n",
    "centroids = np.empty((num_clusters, X.shape[1]))\n",
    "\n",
    "for i in range(num_clusters):\n",
    "    samples = X[kMeans._clusters == i] \n",
    "    plt.scatter(samples[:,0], samples[:,1])\n",
    "\n",
    "    plt.scatter(kMeans._centroids[i,0], kMeans._centroids[i,1], marker=(5,1), color=\"black\")\n",
    "\n",
    "\n",
    "plt.title(f\"K-means clustering (n={data_size})\")\n",
    "plt.show()\n",
    "print(kMeans._centroids.shape)\n",
    "print(kMeans._clusters)\n"
   ]
  },
  {
   "cell_type": "code",
   "execution_count": null,
   "metadata": {},
   "outputs": [],
   "source": []
  }
 ]
}