{
 "metadata": {
  "language_info": {
   "codemirror_mode": {
    "name": "ipython",
    "version": 3
   },
   "file_extension": ".py",
   "mimetype": "text/x-python",
   "name": "python",
   "nbconvert_exporter": "python",
   "pygments_lexer": "ipython3",
   "version": "3.8.3"
  },
  "orig_nbformat": 2,
  "kernelspec": {
   "name": "python383jvsc74a57bd0a184f1367fb968ba5d5a135831971466e49b5148eab24c401680188e517968df",
   "display_name": "Python 3.8.3 64-bit ('base': conda)"
  }
 },
 "nbformat": 4,
 "nbformat_minor": 2,
 "cells": [
  {
   "source": [
    "# PyNowCluster Playground\n"
   ],
   "cell_type": "markdown",
   "metadata": {}
  },
  {
   "cell_type": "code",
   "execution_count": 23,
   "metadata": {},
   "outputs": [],
   "source": [
    "import pynowcluster.clusters\n",
    "import numpy as np\n",
    "import matplotlib.pyplot as plt\n",
    "\n",
    "from ipywidgets import interactive\n",
    "import ipywidgets as widgets"
   ]
  },
  {
   "cell_type": "code",
   "execution_count": 30,
   "metadata": {},
   "outputs": [
    {
     "output_type": "display_data",
     "data": {
      "text/plain": "interactive(children=(IntSlider(value=1, description='layer', max=13, min=1), Output()), _dom_classes=('widget…",
      "application/vnd.jupyter.widget-view+json": {
       "version_major": 2,
       "version_minor": 0,
       "model_id": "b2202b12d8ed4f82b216442d2c2053ba"
      }
     },
     "metadata": {}
    }
   ],
   "source": [
    "np.random.seed(0)\n",
    "n = 700\n",
    "x = np.random.normal(0, 10, n)\n",
    "y = np.random.normal(0, 5, n)\n",
    "  \n",
    "X = np.stack((x,y), axis=1)\n",
    "X = X.astype(np.float32)\n",
    "\n",
    "fractalKMeans = pynowcluster.clusters.FractalKMeans().process(X)\n",
    "\n",
    "layers = fractalKMeans.get_layer_count()\n",
    "\n",
    "def f(layer):\n",
    "    layer_index = layer - 1\n",
    "    layer_mask = fractalKMeans._clusters[layer_index,:]\n",
    "    clusters = np.max(layer_mask) + 1\n",
    "\n",
    "    for i in range(clusters):\n",
    "        samples = X[layer_mask == i] \n",
    "        plt.scatter(samples[:,0], samples[:,1])\n",
    "\n",
    "    plt.title(f\"Fractal K-means clustering (n={n})\")\n",
    "    plt.show()\n",
    "\n",
    "w = widgets.IntSlider(value=1, min=1, max=layers)    \n",
    "interactive_plot = interactive(f, layer=w)\n",
    "interactive_plot"
   ]
  },
  {
   "cell_type": "code",
   "execution_count": null,
   "metadata": {},
   "outputs": [],
   "source": []
  },
  {
   "cell_type": "code",
   "execution_count": null,
   "metadata": {},
   "outputs": [],
   "source": []
  }
 ]
}